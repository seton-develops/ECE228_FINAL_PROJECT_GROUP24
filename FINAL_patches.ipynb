{
 "cells": [
  {
   "cell_type": "code",
   "execution_count": null,
   "id": "5723a5b4",
   "metadata": {},
   "outputs": [],
   "source": [
    "import cv2"
   ]
  },
  {
   "cell_type": "code",
   "execution_count": null,
   "id": "bbaf1762",
   "metadata": {},
   "outputs": [],
   "source": [
    "\"\"\"\n",
    "1) Get image from generator\n",
    "2) Get landmark coordinates from regressor\n",
    "3) From landmarks coordinates get patches use the crop methods\n",
    "4) For each cropped feature, use the pad methods to turn them into 64x64 images\n",
    "4.5) NOTE: eyes are concatonated together side by side as per the paper\n",
    "5) use 64x64 images for local disriminator\n",
    "6) make an instance of the local discriminator for eyes, nose, mouth (3 total)\n",
    "\"\"\"\n",
    "\n",
    "def crop_eyes(image, x_left, y_left, x_right, y_right):\n",
    "    #crop 32 by 32 each eye\n",
    "    crop_img_left = image[y_left-16:y_left+16, x_left-16:x_left+16]\n",
    "    crop_img_right = image[y_right-16:y_right+16, x_right-16:x_right+16]\n",
    "    return crop_img_left, crop_img_right\n",
    "\n",
    "def crop_nose(image, x, y):\n",
    "    #crop 28x24 for nose\n",
    "    crop_nose = image[y-14:y+14, x-12:x+12]\n",
    "    return crop_nose\n",
    "\n",
    "def crop_mouth(image, x_left, y_left, x_right, y_right):\n",
    "    #23x40 for mouth\n",
    "    mid_x = round((x_left + x_right) / 2)\n",
    "    mid_y = round((y_left + y_right) / 2)\n",
    "    \n",
    "    crop_mouth = image[ mid_y-12:mid_y+11, mid_x-20:mid_x+20]\n",
    "    \n",
    "    return crop_mouth"
   ]
  },
  {
   "cell_type": "code",
   "execution_count": null,
   "id": "779959d5",
   "metadata": {},
   "outputs": [],
   "source": [
    "'''\n",
    "PADS PATCHES INTO 64x64 images\n",
    "REQUIRES IMAGES TO BE NUMPY VALUES\n",
    "'''\n",
    "\n",
    "def pad_eyes_crop(img_left, img_right):\n",
    "    #INPUT: (cv2.imread() of both left and right eye)\n",
    "    #OUTPUT: 64x64 image of eyes\n",
    "    \n",
    "    #concat the two images together side by side\n",
    "    img_concat = cv2.hconcat([img_left, img_right])\n",
    "    \n",
    "    #pad the image \n",
    "    return cv2.copyMakeBorder(img_concat,16,16,0,0,cv2.BORDER_CONSTANT,value=[255,255,255])\n",
    "\n",
    "def pad_nose_crop(img):\n",
    "    return cv2.copyMakeBorder(img,18,18,20,20,cv2.BORDER_CONSTANT,value=[255,255,255])\n",
    "\n",
    "\n",
    "def pad_mouth_crop(img):\n",
    "    pad_img = cv2.copyMakeBorder(img,21,20,12,12,cv2.BORDER_CONSTANT,value=[255,255,255])\n",
    "    return pad_img"
   ]
  }
 ],
 "metadata": {
  "kernelspec": {
   "display_name": "Python 3 (ipykernel)",
   "language": "python",
   "name": "python3"
  },
  "language_info": {
   "codemirror_mode": {
    "name": "ipython",
    "version": 3
   },
   "file_extension": ".py",
   "mimetype": "text/x-python",
   "name": "python",
   "nbconvert_exporter": "python",
   "pygments_lexer": "ipython3",
   "version": "3.9.7"
  }
 },
 "nbformat": 4,
 "nbformat_minor": 5
}
