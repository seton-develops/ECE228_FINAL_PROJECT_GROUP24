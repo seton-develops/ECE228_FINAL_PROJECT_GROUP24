{
 "cells": [
  {
   "cell_type": "code",
   "execution_count": 233,
   "id": "425f5bea",
   "metadata": {},
   "outputs": [],
   "source": [
    "import pathlib\n",
    "import os\n",
    "import openpyxl\n",
    "import csv\n",
    "import os\n",
    "from glob import glob\n",
    "import pandas as pd\n",
    "path_to_toon_csv_folder = \"/home/zluan/ECE_228_project/cartoonset100k\" #place path here\n",
    "path_to_main_csv = \"/home/zluan/ECE_228_project/datasets\" #place path of csv file you are writing to here\n",
    "\n",
    "\n",
    "def read_write_files():\n",
    "    f = os.path.join(path_to_toon_csv_folder, \"*/*.csv\") #images are placed in 10 folders, so loop through all\n",
    "    files = glob(f)\n",
    "    for file in files:\n",
    "        flag = 1\n",
    "        filename = os.path.basename(file).split(\".\")[0] #image ID, same as the name of the image\n",
    "        data_attribute_row = []\n",
    "        data_attribute_row.append(filename)\n",
    "        with open(file, 'r') as csv_file:\n",
    "            data = pd.read_csv(csv_file, usecols = [1], header=None) #Only take col with feature values\n",
    "\n",
    "        for i in range(len(data[1])):\n",
    "            data_attribute_row.append(str(data[flag][i]))\n",
    "        data_attribute_mat.append(data_attribute_row) \n",
    "        flag += 1\n",
    "        excel_header = ['ID', 'eye_angle', 'eye_lashes','eye_lid',\n",
    "                         'chin_length','eyebrow_weight','eyebrow_shape',\n",
    "                          'eyebrow_thickness','face_shape','facial_hair',\n",
    "                          'hair','eye_color','face_color','hair_color',\n",
    "                         'glasses','glasses_color','eye_slant','eyebrow_width', \n",
    "                         'eye_eyebrow_distance']\n",
    "    \n",
    "    data_attribute_mat.pop(0)\n",
    "    df = pd.DataFrame(data_attribute_mat, columns = excel_header)\n",
    "        \n",
    "    df.to_csv(path_to_main_csv + '/combined_toon_attributes.csv', index=False)\n",
    "\n",
    "\n",
    "\n",
    "def main():\n",
    "    read_write_files()\n",
    "    \n",
    "    \n",
    "        \n",
    "            \n",
    "if __name__ == '__main__':\n",
    "    main()            \n",
    "            \n",
    "            \n",
    "            "
   ]
  }
 ],
 "metadata": {
  "kernelspec": {
   "display_name": "ECE_228_project",
   "language": "python",
   "name": "ece_228_project"
  },
  "language_info": {
   "codemirror_mode": {
    "name": "ipython",
    "version": 3
   },
   "file_extension": ".py",
   "mimetype": "text/x-python",
   "name": "python",
   "nbconvert_exporter": "python",
   "pygments_lexer": "ipython3",
   "version": "3.10.4"
  }
 },
 "nbformat": 4,
 "nbformat_minor": 5
}
