{
 "cells": [
  {
   "cell_type": "code",
   "execution_count": 3,
   "id": "5ff983be",
   "metadata": {},
   "outputs": [],
   "source": [
    "import openpyxl\n",
    "import numpy\n",
    "\n",
    "path_to_toon_csv_folder = \"\" #place path here\n",
    "path_to_main_csv = \"\" #place path of csv file you are writing to here\n",
    "\n",
    "\n",
    "def read_write_files():\n",
    "    '''1) Iterate through toon dataset csv files (use read only)\n",
    "            -will need to check that files are csv\n",
    "       2) copy csv file to a main csv file called combined_toon_attributes.csv (write only)\n",
    "            -save file when finished\n",
    "       3) See sample.csv for an example\n",
    "    '''\n",
    "    pass\n",
    "\n",
    "\n",
    "def main():\n",
    "    read_write_files()"
   ]
  },
  {
   "cell_type": "code",
   "execution_count": null,
   "id": "8879f460",
   "metadata": {},
   "outputs": [],
   "source": []
  }
 ],
 "metadata": {
  "kernelspec": {
   "display_name": "Python 3 (ipykernel)",
   "language": "python",
   "name": "python3"
  },
  "language_info": {
   "codemirror_mode": {
    "name": "ipython",
    "version": 3
   },
   "file_extension": ".py",
   "mimetype": "text/x-python",
   "name": "python",
   "nbconvert_exporter": "python",
   "pygments_lexer": "ipython3",
   "version": "3.9.7"
  }
 },
 "nbformat": 4,
 "nbformat_minor": 5
}
