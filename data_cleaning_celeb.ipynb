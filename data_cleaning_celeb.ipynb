{
 "cells": [
  {
   "cell_type": "code",
   "execution_count": null,
   "id": "30dd5ced",
   "metadata": {},
   "outputs": [],
   "source": [
    "import selenium\n",
    "import beautifulsoup\n",
    "import pandas\n",
    "\n",
    "def search_ethnicity():\n",
    "    #implement\n",
    "    #search through website\n",
    "        #check if celebrity in dataset (try exception)\n",
    "    #get html code relating to ethnicity https://ethnicelebs.com/ (PUT CELEBNAME HERE)\n",
    "    #return ethnicty as string\n",
    "    return ethnicity\n",
    "\n",
    "#add three columns in the CELEBA annotations for skin color (black, white, tan)\n",
    "def iterate_through_identities():\n",
    "    pass\n",
    "    \n"
   ]
  }
 ],
 "metadata": {
  "kernelspec": {
   "display_name": "Python 3 (ipykernel)",
   "language": "python",
   "name": "python3"
  },
  "language_info": {
   "codemirror_mode": {
    "name": "ipython",
    "version": 3
   },
   "file_extension": ".py",
   "mimetype": "text/x-python",
   "name": "python",
   "nbconvert_exporter": "python",
   "pygments_lexer": "ipython3",
   "version": "3.9.7"
  }
 },
 "nbformat": 4,
 "nbformat_minor": 5
}
