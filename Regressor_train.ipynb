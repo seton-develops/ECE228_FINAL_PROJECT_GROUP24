{
 "cells": [
  {
   "cell_type": "markdown",
   "id": "6aa45948",
   "metadata": {},
   "source": [
    "## This notebook trains the regressor model for both human and cartoon images. For demonstration purpose, this only trains the human images. If you want to also train the model for cartoon images, simply change the all variables with \"human\" to \"cartoon\""
   ]
  },
  {
   "cell_type": "code",
   "execution_count": null,
   "id": "9b87c81c",
   "metadata": {},
   "outputs": [],
   "source": [
    "import torch\n",
    "from dataset import Human2CartoonDataset\n",
    "import sys\n",
    "from utils import save_checkpoint, load_checkpoint, calculate_error_norm\n",
    "from torch.utils.data import DataLoader\n",
    "import torch.nn as nn\n",
    "import torch.optim as optim\n",
    "import config\n",
    "from tqdm import tqdm\n",
    "import numpy as np\n",
    "from model_R import Regressor\n",
    "from PIL import Image\n",
    "import os\n",
    "from torch.utils.data import Dataset\n",
    "import torch\n",
    "import numpy as np\n",
    "import pandas as pd\n",
    "from torchsummary import summary\n",
    "import torch\n",
    "import torch.utils.data\n",
    "import tensorflow as tf\n",
    "import matplotlib.pyplot as plt\n",
    "from torchsummary import summary as summary"
   ]
  },
  {
   "cell_type": "code",
   "execution_count": null,
   "id": "abdf44a7",
   "metadata": {},
   "outputs": [],
   "source": [
    "def train_fn(reg_H,loader, opt_H, mse):\n",
    "    loop = tqdm(loader, leave=True)\n",
    "    \n",
    "    running_loss = 0\n",
    "    for idx, (human, cartoon, landmark_human, landmark_cartoon) in enumerate(loop):\n",
    "        cartoon = cartoon.to(config.DEVICE)\n",
    "        human = human.to(config.DEVICE)\n",
    "        landmark_human = landmark_human.to(config.DEVICE)\n",
    "        landmark_cartoon = landmark_cartoon.to(config.DEVICE)\n",
    "\n",
    "        with torch.cuda.amp.autocast():\n",
    "            landmark_human_pred = reg_H((human*0.5+0.5)*255)\n",
    "\n",
    "            landmark_human_loss = mse(landmark_human_pred.float(),landmark_human.float())\n",
    "            # If you want to train with cartoon images, change all variables with \"human\" to \"cartoon\"\n",
    "            \n",
    "\n",
    "        opt_H.zero_grad()\n",
    "        landmark_human_loss.backward()\n",
    "        opt_H.step()\n",
    "        running_loss += landmark_human_loss.item()\n",
    " \n",
    "        loop.set_postfix(L = landmark_human_loss.item())\n",
    "    return running_loss\n"
   ]
  },
  {
   "cell_type": "code",
   "execution_count": null,
   "id": "e89575d2",
   "metadata": {},
   "outputs": [],
   "source": [
    "def main():\n",
    "\n",
    "    reg_H = Regressor().to(config.DEVICE)\n",
    "\n",
    "\n",
    "    opt_H = optim.Adam(\n",
    "        list(reg_H.parameters()),\n",
    "        lr= 1e-5,\n",
    "        betas=(0.5, 0.999),\n",
    "    )\n",
    "    dataset = Human2CartoonDataset(\n",
    "        root_human=config.TRAIN_DIR+\"/trainA\", \n",
    "        root_cartoon=config.TRAIN_DIR+\"/trainB\", \n",
    "        root_landmarks_human=config.TRAIN_DIR+\"/trainA_human_landmarks.xlsx\", \n",
    "        root_landmarks_cartoon=config.TRAIN_DIR+\"/trainB_cartoon_landmarks.xlsx\", \n",
    "        transform=config.transforms\n",
    "    )\n",
    "    loader = DataLoader(\n",
    "        dataset,\n",
    "        batch_size=config.BATCH_SIZE,\n",
    "        shuffle=False,\n",
    "        num_workers=config.NUM_WORKERS,\n",
    "        pin_memory=True\n",
    "    )\n",
    "    \n",
    "    mse = nn.MSELoss()\n",
    "    load_checkpoint(\n",
    "            \"R_H.pth.tar\", reg_H, opt_H, 1e-5,\n",
    "        )\n",
    "\n",
    "    hold_loss=[]\n",
    "    for epoch in range(2):\n",
    "        print('Epoch : ', epoch)\n",
    "        running_loss=train_fn(reg_H,loader, opt_H, mse)\n",
    "        hold_loss.append(running_loss/4644)\n",
    "        print('Loss at this epoch : ', hold_loss[epoch])\n",
    "    plt.plot(np.array(hold_loss))\n",
    "    \n",
    "    \n",
    "if __name__ == \"__main__\":\n",
    "    main()"
   ]
  }
 ],
 "metadata": {
  "kernelspec": {
   "display_name": "ECE_228_project",
   "language": "python",
   "name": "ece_228_project"
  },
  "language_info": {
   "codemirror_mode": {
    "name": "ipython",
    "version": 3
   },
   "file_extension": ".py",
   "mimetype": "text/x-python",
   "name": "python",
   "nbconvert_exporter": "python",
   "pygments_lexer": "ipython3",
   "version": "3.10.4"
  }
 },
 "nbformat": 4,
 "nbformat_minor": 5
}
